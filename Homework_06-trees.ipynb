{
 "cells": [
  {
   "cell_type": "code",
   "execution_count": 1,
   "id": "ab9c23e0-6104-4fe4-83a3-d4e2aa404fce",
   "metadata": {},
   "outputs": [],
   "source": [
    "import pandas as pd\n",
    "import numpy as np\n",
    "\n",
    "from sklearn.model_selection import train_test_split\n",
    "from sklearn.feature_extraction import DictVectorizer\n",
    "from sklearn.tree import DecisionTreeRegressor\n",
    "from sklearn.tree import export_text\n",
    "from sklearn.ensemble import RandomForestRegressor\n",
    "from sklearn.metrics import root_mean_squared_error\n"
   ]
  },
  {
   "cell_type": "code",
   "execution_count": 2,
   "id": "3f1dbdfb-4897-45cc-be5f-b1389c713659",
   "metadata": {},
   "outputs": [],
   "source": [
    "df = pd.read_csv('car_fuel_efficiency.csv')"
   ]
  },
  {
   "cell_type": "code",
   "execution_count": 3,
   "id": "5ead39f2-754c-484c-affe-d4a47b20fe26",
   "metadata": {},
   "outputs": [
    {
     "data": {
      "text/html": [
       "<div>\n",
       "<style scoped>\n",
       "    .dataframe tbody tr th:only-of-type {\n",
       "        vertical-align: middle;\n",
       "    }\n",
       "\n",
       "    .dataframe tbody tr th {\n",
       "        vertical-align: top;\n",
       "    }\n",
       "\n",
       "    .dataframe thead th {\n",
       "        text-align: right;\n",
       "    }\n",
       "</style>\n",
       "<table border=\"1\" class=\"dataframe\">\n",
       "  <thead>\n",
       "    <tr style=\"text-align: right;\">\n",
       "      <th></th>\n",
       "      <th>engine_displacement</th>\n",
       "      <th>num_cylinders</th>\n",
       "      <th>horsepower</th>\n",
       "      <th>vehicle_weight</th>\n",
       "      <th>acceleration</th>\n",
       "      <th>model_year</th>\n",
       "      <th>origin</th>\n",
       "      <th>fuel_type</th>\n",
       "      <th>drivetrain</th>\n",
       "      <th>num_doors</th>\n",
       "      <th>fuel_efficiency_mpg</th>\n",
       "    </tr>\n",
       "  </thead>\n",
       "  <tbody>\n",
       "    <tr>\n",
       "      <th>0</th>\n",
       "      <td>170</td>\n",
       "      <td>3.0</td>\n",
       "      <td>159.0</td>\n",
       "      <td>3413.433759</td>\n",
       "      <td>17.7</td>\n",
       "      <td>2003</td>\n",
       "      <td>Europe</td>\n",
       "      <td>Gasoline</td>\n",
       "      <td>All-wheel drive</td>\n",
       "      <td>0.0</td>\n",
       "      <td>13.231729</td>\n",
       "    </tr>\n",
       "    <tr>\n",
       "      <th>1</th>\n",
       "      <td>130</td>\n",
       "      <td>5.0</td>\n",
       "      <td>97.0</td>\n",
       "      <td>3149.664934</td>\n",
       "      <td>17.8</td>\n",
       "      <td>2007</td>\n",
       "      <td>USA</td>\n",
       "      <td>Gasoline</td>\n",
       "      <td>Front-wheel drive</td>\n",
       "      <td>0.0</td>\n",
       "      <td>13.688217</td>\n",
       "    </tr>\n",
       "    <tr>\n",
       "      <th>2</th>\n",
       "      <td>170</td>\n",
       "      <td>NaN</td>\n",
       "      <td>78.0</td>\n",
       "      <td>3079.038997</td>\n",
       "      <td>15.1</td>\n",
       "      <td>2018</td>\n",
       "      <td>Europe</td>\n",
       "      <td>Gasoline</td>\n",
       "      <td>Front-wheel drive</td>\n",
       "      <td>0.0</td>\n",
       "      <td>14.246341</td>\n",
       "    </tr>\n",
       "    <tr>\n",
       "      <th>3</th>\n",
       "      <td>220</td>\n",
       "      <td>4.0</td>\n",
       "      <td>NaN</td>\n",
       "      <td>2542.392402</td>\n",
       "      <td>20.2</td>\n",
       "      <td>2009</td>\n",
       "      <td>USA</td>\n",
       "      <td>Diesel</td>\n",
       "      <td>All-wheel drive</td>\n",
       "      <td>2.0</td>\n",
       "      <td>16.912736</td>\n",
       "    </tr>\n",
       "    <tr>\n",
       "      <th>4</th>\n",
       "      <td>210</td>\n",
       "      <td>1.0</td>\n",
       "      <td>140.0</td>\n",
       "      <td>3460.870990</td>\n",
       "      <td>14.4</td>\n",
       "      <td>2009</td>\n",
       "      <td>Europe</td>\n",
       "      <td>Gasoline</td>\n",
       "      <td>All-wheel drive</td>\n",
       "      <td>2.0</td>\n",
       "      <td>12.488369</td>\n",
       "    </tr>\n",
       "  </tbody>\n",
       "</table>\n",
       "</div>"
      ],
      "text/plain": [
       "   engine_displacement  num_cylinders  horsepower  vehicle_weight  \\\n",
       "0                  170            3.0       159.0     3413.433759   \n",
       "1                  130            5.0        97.0     3149.664934   \n",
       "2                  170            NaN        78.0     3079.038997   \n",
       "3                  220            4.0         NaN     2542.392402   \n",
       "4                  210            1.0       140.0     3460.870990   \n",
       "\n",
       "   acceleration  model_year  origin fuel_type         drivetrain  num_doors  \\\n",
       "0          17.7        2003  Europe  Gasoline    All-wheel drive        0.0   \n",
       "1          17.8        2007     USA  Gasoline  Front-wheel drive        0.0   \n",
       "2          15.1        2018  Europe  Gasoline  Front-wheel drive        0.0   \n",
       "3          20.2        2009     USA    Diesel    All-wheel drive        2.0   \n",
       "4          14.4        2009  Europe  Gasoline    All-wheel drive        2.0   \n",
       "\n",
       "   fuel_efficiency_mpg  \n",
       "0            13.231729  \n",
       "1            13.688217  \n",
       "2            14.246341  \n",
       "3            16.912736  \n",
       "4            12.488369  "
      ]
     },
     "execution_count": 3,
     "metadata": {},
     "output_type": "execute_result"
    }
   ],
   "source": [
    "df.head()"
   ]
  },
  {
   "cell_type": "code",
   "execution_count": 4,
   "id": "c1a21f41-53aa-4deb-acd8-5dd9f8c0b39a",
   "metadata": {},
   "outputs": [
    {
     "data": {
      "text/plain": [
       "engine_displacement    0\n",
       "num_cylinders          0\n",
       "horsepower             0\n",
       "vehicle_weight         0\n",
       "acceleration           0\n",
       "model_year             0\n",
       "origin                 0\n",
       "fuel_type              0\n",
       "drivetrain             0\n",
       "num_doors              0\n",
       "fuel_efficiency_mpg    0\n",
       "dtype: int64"
      ]
     },
     "execution_count": 4,
     "metadata": {},
     "output_type": "execute_result"
    }
   ],
   "source": [
    "df = df.fillna(0)\n",
    "df.isnull().sum()"
   ]
  },
  {
   "cell_type": "code",
   "execution_count": 5,
   "id": "f93378c9-d5d8-466f-ace6-790450c6e608",
   "metadata": {},
   "outputs": [],
   "source": [
    "df_full_train, df_test = train_test_split(df, test_size=0.2, random_state=1)\n",
    "df_train, df_val = train_test_split(df_full_train, test_size=0.25, random_state=1)"
   ]
  },
  {
   "cell_type": "code",
   "execution_count": 6,
   "id": "ad090116-0b6a-4f87-9517-b6c7825a3d33",
   "metadata": {},
   "outputs": [],
   "source": [
    "df_full_train = df_full_train.reset_index(drop=True)\n",
    "df_train = df_train.reset_index(drop=True)\n",
    "df_val = df_val.reset_index(drop=True)\n",
    "df_test = df_test.reset_index(drop=True)"
   ]
  },
  {
   "cell_type": "code",
   "execution_count": 7,
   "id": "5738a656-afd0-4e76-a6d0-437323c853fe",
   "metadata": {},
   "outputs": [],
   "source": [
    "y_train = df_train['fuel_efficiency_mpg']\n",
    "y_val = df_val['fuel_efficiency_mpg']\n",
    "y_test = df_test['fuel_efficiency_mpg']"
   ]
  },
  {
   "cell_type": "code",
   "execution_count": 8,
   "id": "ab3be9dc-9ad7-40bc-86c7-a32b9c7ac634",
   "metadata": {},
   "outputs": [],
   "source": [
    "del df_train['fuel_efficiency_mpg']\n",
    "del df_val['fuel_efficiency_mpg']\n",
    "del df_test['fuel_efficiency_mpg']"
   ]
  },
  {
   "cell_type": "code",
   "execution_count": 9,
   "id": "742ccee3-5c74-444a-8885-28054dbbc0e4",
   "metadata": {},
   "outputs": [],
   "source": [
    "train_dicts = df_train.to_dict(orient='records')\n",
    "dv = DictVectorizer(sparse=False)\n",
    "X_train = dv.fit_transform(train_dicts)"
   ]
  },
  {
   "cell_type": "code",
   "execution_count": 10,
   "id": "7a532bb5-3dc4-4bb3-9f37-bbdf33f2f975",
   "metadata": {},
   "outputs": [
    {
     "data": {
      "text/plain": [
       "array([[1.39000000e+01, 0.00000000e+00, 1.00000000e+00, ...,\n",
       "        0.00000000e+00, 1.00000000e+00, 2.96667950e+03],\n",
       "       [1.71000000e+01, 0.00000000e+00, 1.00000000e+00, ...,\n",
       "        0.00000000e+00, 0.00000000e+00, 2.95082212e+03],\n",
       "       [1.74000000e+01, 1.00000000e+00, 0.00000000e+00, ...,\n",
       "        0.00000000e+00, 1.00000000e+00, 3.07822167e+03],\n",
       "       ...,\n",
       "       [1.67000000e+01, 1.00000000e+00, 0.00000000e+00, ...,\n",
       "        1.00000000e+00, 0.00000000e+00, 3.04196459e+03],\n",
       "       [1.52000000e+01, 1.00000000e+00, 0.00000000e+00, ...,\n",
       "        1.00000000e+00, 0.00000000e+00, 2.45334143e+03],\n",
       "       [1.41000000e+01, 0.00000000e+00, 1.00000000e+00, ...,\n",
       "        0.00000000e+00, 1.00000000e+00, 2.83389943e+03]], shape=(5822, 14))"
      ]
     },
     "execution_count": 10,
     "metadata": {},
     "output_type": "execute_result"
    }
   ],
   "source": [
    "X_train"
   ]
  },
  {
   "cell_type": "code",
   "execution_count": 11,
   "id": "46d44ce9-faef-4243-b771-7ae07617713d",
   "metadata": {},
   "outputs": [],
   "source": [
    "#Question 1"
   ]
  },
  {
   "cell_type": "code",
   "execution_count": 12,
   "id": "4b1d6a98-a4bf-48ba-b332-55d63b3bf978",
   "metadata": {},
   "outputs": [
    {
     "data": {
      "text/plain": [
       "array([16.88218854, 16.88218854, 16.88218854, ..., 12.9383797 ,\n",
       "       12.9383797 , 16.88218854], shape=(1941,))"
      ]
     },
     "execution_count": 12,
     "metadata": {},
     "output_type": "execute_result"
    }
   ],
   "source": [
    "dt = DecisionTreeRegressor(max_depth=1)\n",
    "dt.fit(X_train, y_train)\n",
    " \n",
    "val_dicts = df_val.to_dict(orient='records')\n",
    "X_val = dv.transform(val_dicts)\n",
    "y_pred = dt.predict(X_val)\n",
    "y_pred"
   ]
  },
  {
   "cell_type": "code",
   "execution_count": 13,
   "id": "3e67438f-88ed-4274-b67b-091ddc73fdd8",
   "metadata": {},
   "outputs": [
    {
     "name": "stdout",
     "output_type": "stream",
     "text": [
      "|--- vehicle_weight <= 3022.11\n",
      "|   |--- value: [16.88]\n",
      "|--- vehicle_weight >  3022.11\n",
      "|   |--- value: [12.94]\n",
      "\n"
     ]
    }
   ],
   "source": [
    "names = dv.get_feature_names_out().tolist()\n",
    "print(export_text(dt, feature_names=names))"
   ]
  },
  {
   "cell_type": "code",
   "execution_count": 14,
   "id": "a42c7f4d-a558-422c-a55c-56edafbb7c3f",
   "metadata": {},
   "outputs": [],
   "source": [
    "#Question 2"
   ]
  },
  {
   "cell_type": "code",
   "execution_count": 15,
   "id": "f3b955d8-9b6e-45ac-bdfc-c98a094a04f5",
   "metadata": {},
   "outputs": [
    {
     "data": {
      "text/plain": [
       "array([18.62889858, 15.29598647, 18.22879442, ..., 14.80283652,\n",
       "       13.49358341, 15.99288211], shape=(1941,))"
      ]
     },
     "execution_count": 15,
     "metadata": {},
     "output_type": "execute_result"
    }
   ],
   "source": [
    "rf = RandomForestRegressor(n_estimators=10, random_state=1, n_jobs=-1)\n",
    "rf.fit(X_train, y_train)\n",
    "\n",
    "y_pred = rf.predict(X_val)\n",
    "y_pred"
   ]
  },
  {
   "cell_type": "code",
   "execution_count": 16,
   "id": "84243571-3596-4b72-9831-199d8edcd2a3",
   "metadata": {},
   "outputs": [
    {
     "data": {
      "text/plain": [
       "0.4599777557336148"
      ]
     },
     "execution_count": 16,
     "metadata": {},
     "output_type": "execute_result"
    }
   ],
   "source": [
    "root_mean_squared_error(y_val, y_pred)"
   ]
  },
  {
   "cell_type": "code",
   "execution_count": 17,
   "id": "9c383ff5-c18c-4c3e-bb2f-df0ac9e1ed26",
   "metadata": {},
   "outputs": [],
   "source": [
    "#Question 3"
   ]
  },
  {
   "cell_type": "code",
   "execution_count": 18,
   "id": "7daf6954-166a-43d4-8e66-0359bf43f4b9",
   "metadata": {},
   "outputs": [
    {
     "data": {
      "text/plain": [
       "[(np.int64(10), 0.46),\n",
       " (np.int64(20), 0.454),\n",
       " (np.int64(30), 0.451),\n",
       " (np.int64(40), 0.448),\n",
       " (np.int64(50), 0.446),\n",
       " (np.int64(60), 0.445),\n",
       " (np.int64(70), 0.445),\n",
       " (np.int64(80), 0.445),\n",
       " (np.int64(90), 0.445),\n",
       " (np.int64(100), 0.444),\n",
       " (np.int64(110), 0.443),\n",
       " (np.int64(120), 0.444),\n",
       " (np.int64(130), 0.443),\n",
       " (np.int64(140), 0.443),\n",
       " (np.int64(150), 0.443),\n",
       " (np.int64(160), 0.443),\n",
       " (np.int64(170), 0.443),\n",
       " (np.int64(180), 0.442),\n",
       " (np.int64(190), 0.443),\n",
       " (np.int64(200), 0.443)]"
      ]
     },
     "execution_count": 18,
     "metadata": {},
     "output_type": "execute_result"
    }
   ],
   "source": [
    "scores = []\n",
    "\n",
    "for n in np.arange(10, 201, 10):\n",
    "    rf = RandomForestRegressor(n_estimators=n, random_state=1, n_jobs=-1)\n",
    "    rf.fit(X_train, y_train)\n",
    "    y_pred = rf.predict(X_val)\n",
    "    score = round(root_mean_squared_error(y_val, y_pred),3)\n",
    "    scores.append((n, score))\n",
    "scores"
   ]
  },
  {
   "cell_type": "code",
   "execution_count": 19,
   "id": "f4f143c8-f4e3-45a3-80db-a5a4a47ebc20",
   "metadata": {},
   "outputs": [],
   "source": [
    "#Question 4"
   ]
  },
  {
   "cell_type": "code",
   "execution_count": 20,
   "id": "1c5d152a-e15c-4af9-b099-3c5e72f86804",
   "metadata": {
    "scrolled": true
   },
   "outputs": [
    {
     "data": {
      "text/plain": [
       "[(np.int64(10), 10, 0.452),\n",
       " (np.int64(10), 15, 0.457),\n",
       " (np.int64(10), 20, 0.459),\n",
       " (np.int64(10), 25, 0.46),\n",
       " (np.int64(20), 10, 0.449),\n",
       " (np.int64(20), 15, 0.452),\n",
       " (np.int64(20), 20, 0.453),\n",
       " (np.int64(20), 25, 0.454),\n",
       " (np.int64(30), 10, 0.446),\n",
       " (np.int64(30), 15, 0.45),\n",
       " (np.int64(30), 20, 0.451),\n",
       " (np.int64(30), 25, 0.451),\n",
       " (np.int64(40), 10, 0.444),\n",
       " (np.int64(40), 15, 0.448),\n",
       " (np.int64(40), 20, 0.448),\n",
       " (np.int64(40), 25, 0.448),\n",
       " (np.int64(50), 10, 0.443),\n",
       " (np.int64(50), 15, 0.446),\n",
       " (np.int64(50), 20, 0.446),\n",
       " (np.int64(50), 25, 0.446),\n",
       " (np.int64(60), 10, 0.442),\n",
       " (np.int64(60), 15, 0.445),\n",
       " (np.int64(60), 20, 0.445),\n",
       " (np.int64(60), 25, 0.446),\n",
       " (np.int64(70), 10, 0.442),\n",
       " (np.int64(70), 15, 0.444),\n",
       " (np.int64(70), 20, 0.444),\n",
       " (np.int64(70), 25, 0.445),\n",
       " (np.int64(80), 10, 0.442),\n",
       " (np.int64(80), 15, 0.444),\n",
       " (np.int64(80), 20, 0.445),\n",
       " (np.int64(80), 25, 0.445),\n",
       " (np.int64(90), 10, 0.442),\n",
       " (np.int64(90), 15, 0.444),\n",
       " (np.int64(90), 20, 0.445),\n",
       " (np.int64(90), 25, 0.445),\n",
       " (np.int64(100), 10, 0.442),\n",
       " (np.int64(100), 15, 0.444),\n",
       " (np.int64(100), 20, 0.445),\n",
       " (np.int64(100), 25, 0.444),\n",
       " (np.int64(110), 10, 0.441),\n",
       " (np.int64(110), 15, 0.443),\n",
       " (np.int64(110), 20, 0.444),\n",
       " (np.int64(110), 25, 0.443),\n",
       " (np.int64(120), 10, 0.441),\n",
       " (np.int64(120), 15, 0.443),\n",
       " (np.int64(120), 20, 0.444),\n",
       " (np.int64(120), 25, 0.444),\n",
       " (np.int64(130), 10, 0.441),\n",
       " (np.int64(130), 15, 0.443),\n",
       " (np.int64(130), 20, 0.444),\n",
       " (np.int64(130), 25, 0.443),\n",
       " (np.int64(140), 10, 0.441),\n",
       " (np.int64(140), 15, 0.443),\n",
       " (np.int64(140), 20, 0.443),\n",
       " (np.int64(140), 25, 0.443),\n",
       " (np.int64(150), 10, 0.44),\n",
       " (np.int64(150), 15, 0.443),\n",
       " (np.int64(150), 20, 0.443),\n",
       " (np.int64(150), 25, 0.443),\n",
       " (np.int64(160), 10, 0.44),\n",
       " (np.int64(160), 15, 0.442),\n",
       " (np.int64(160), 20, 0.443),\n",
       " (np.int64(160), 25, 0.443),\n",
       " (np.int64(170), 10, 0.44),\n",
       " (np.int64(170), 15, 0.443),\n",
       " (np.int64(170), 20, 0.443),\n",
       " (np.int64(170), 25, 0.443),\n",
       " (np.int64(180), 10, 0.44),\n",
       " (np.int64(180), 15, 0.442),\n",
       " (np.int64(180), 20, 0.443),\n",
       " (np.int64(180), 25, 0.442),\n",
       " (np.int64(190), 10, 0.44),\n",
       " (np.int64(190), 15, 0.442),\n",
       " (np.int64(190), 20, 0.443),\n",
       " (np.int64(190), 25, 0.443),\n",
       " (np.int64(200), 10, 0.44),\n",
       " (np.int64(200), 15, 0.442),\n",
       " (np.int64(200), 20, 0.443),\n",
       " (np.int64(200), 25, 0.443)]"
      ]
     },
     "execution_count": 20,
     "metadata": {},
     "output_type": "execute_result"
    }
   ],
   "source": [
    "scores = []\n",
    "\n",
    "for n in np.arange(10, 201, 10):\n",
    "    for depth in [10, 15, 20, 25]:\n",
    "        rf = RandomForestRegressor(n_estimators=n, random_state=1, n_jobs=-1, max_depth=depth)\n",
    "        rf.fit(X_train, y_train)\n",
    "        y_pred = rf.predict(X_val)\n",
    "        score = round(root_mean_squared_error(y_val, y_pred),3)\n",
    "        scores.append((n, depth, score))\n",
    "scores"
   ]
  },
  {
   "cell_type": "code",
   "execution_count": 21,
   "id": "a9ef845c-af3d-419f-87f3-8bb36fdb650b",
   "metadata": {},
   "outputs": [],
   "source": [
    "df_scores = pd.DataFrame(scores, columns=['n_estimators','max_depth','rmse'])"
   ]
  },
  {
   "cell_type": "code",
   "execution_count": 22,
   "id": "e7067a2c-3678-4469-bd67-d8d982fcd280",
   "metadata": {},
   "outputs": [
    {
     "data": {
      "text/html": [
       "<div>\n",
       "<style scoped>\n",
       "    .dataframe tbody tr th:only-of-type {\n",
       "        vertical-align: middle;\n",
       "    }\n",
       "\n",
       "    .dataframe tbody tr th {\n",
       "        vertical-align: top;\n",
       "    }\n",
       "\n",
       "    .dataframe thead th {\n",
       "        text-align: right;\n",
       "    }\n",
       "</style>\n",
       "<table border=\"1\" class=\"dataframe\">\n",
       "  <thead>\n",
       "    <tr style=\"text-align: right;\">\n",
       "      <th></th>\n",
       "      <th>n_estimators</th>\n",
       "      <th>max_depth</th>\n",
       "      <th>rmse</th>\n",
       "    </tr>\n",
       "  </thead>\n",
       "  <tbody>\n",
       "    <tr>\n",
       "      <th>60</th>\n",
       "      <td>160</td>\n",
       "      <td>10</td>\n",
       "      <td>0.440</td>\n",
       "    </tr>\n",
       "    <tr>\n",
       "      <th>56</th>\n",
       "      <td>150</td>\n",
       "      <td>10</td>\n",
       "      <td>0.440</td>\n",
       "    </tr>\n",
       "    <tr>\n",
       "      <th>68</th>\n",
       "      <td>180</td>\n",
       "      <td>10</td>\n",
       "      <td>0.440</td>\n",
       "    </tr>\n",
       "    <tr>\n",
       "      <th>64</th>\n",
       "      <td>170</td>\n",
       "      <td>10</td>\n",
       "      <td>0.440</td>\n",
       "    </tr>\n",
       "    <tr>\n",
       "      <th>72</th>\n",
       "      <td>190</td>\n",
       "      <td>10</td>\n",
       "      <td>0.440</td>\n",
       "    </tr>\n",
       "    <tr>\n",
       "      <th>...</th>\n",
       "      <td>...</td>\n",
       "      <td>...</td>\n",
       "      <td>...</td>\n",
       "    </tr>\n",
       "    <tr>\n",
       "      <th>6</th>\n",
       "      <td>20</td>\n",
       "      <td>20</td>\n",
       "      <td>0.453</td>\n",
       "    </tr>\n",
       "    <tr>\n",
       "      <th>7</th>\n",
       "      <td>20</td>\n",
       "      <td>25</td>\n",
       "      <td>0.454</td>\n",
       "    </tr>\n",
       "    <tr>\n",
       "      <th>1</th>\n",
       "      <td>10</td>\n",
       "      <td>15</td>\n",
       "      <td>0.457</td>\n",
       "    </tr>\n",
       "    <tr>\n",
       "      <th>2</th>\n",
       "      <td>10</td>\n",
       "      <td>20</td>\n",
       "      <td>0.459</td>\n",
       "    </tr>\n",
       "    <tr>\n",
       "      <th>3</th>\n",
       "      <td>10</td>\n",
       "      <td>25</td>\n",
       "      <td>0.460</td>\n",
       "    </tr>\n",
       "  </tbody>\n",
       "</table>\n",
       "<p>80 rows × 3 columns</p>\n",
       "</div>"
      ],
      "text/plain": [
       "    n_estimators  max_depth   rmse\n",
       "60           160         10  0.440\n",
       "56           150         10  0.440\n",
       "68           180         10  0.440\n",
       "64           170         10  0.440\n",
       "72           190         10  0.440\n",
       "..           ...        ...    ...\n",
       "6             20         20  0.453\n",
       "7             20         25  0.454\n",
       "1             10         15  0.457\n",
       "2             10         20  0.459\n",
       "3             10         25  0.460\n",
       "\n",
       "[80 rows x 3 columns]"
      ]
     },
     "execution_count": 22,
     "metadata": {},
     "output_type": "execute_result"
    }
   ],
   "source": [
    "df_scores.sort_values('rmse')"
   ]
  },
  {
   "cell_type": "code",
   "execution_count": 23,
   "id": "f6a72a14-a407-4a7e-ab5f-eb994c648e98",
   "metadata": {},
   "outputs": [],
   "source": [
    "#Question 5"
   ]
  },
  {
   "cell_type": "code",
   "execution_count": 24,
   "id": "b2c97ee8-5dc6-4db5-8fb6-b11657ce61ce",
   "metadata": {
    "scrolled": true
   },
   "outputs": [
    {
     "data": {
      "text/plain": [
       "0.459"
      ]
     },
     "execution_count": 24,
     "metadata": {},
     "output_type": "execute_result"
    }
   ],
   "source": [
    "rf = RandomForestRegressor(n_estimators=10, random_state=1, n_jobs=-1, max_depth=20)\n",
    "rf.fit(X_train, y_train)\n",
    "y_pred = rf.predict(X_val)\n",
    "round(root_mean_squared_error(y_val, y_pred),3)\n"
   ]
  },
  {
   "cell_type": "code",
   "execution_count": 25,
   "id": "16c2ef43-220d-42c5-8f3b-70d71c1f6878",
   "metadata": {},
   "outputs": [],
   "source": [
    "importances = rf.feature_importances_\n",
    "feature_importance_df = pd.DataFrame({\n",
    "    'feature': names,\n",
    "    'importance': importances\n",
    "}).sort_values(by='importance', ascending=False)"
   ]
  },
  {
   "cell_type": "code",
   "execution_count": 26,
   "id": "09dc5788-5ef9-428e-84ac-d5e283bddcf2",
   "metadata": {},
   "outputs": [
    {
     "data": {
      "text/html": [
       "<div>\n",
       "<style scoped>\n",
       "    .dataframe tbody tr th:only-of-type {\n",
       "        vertical-align: middle;\n",
       "    }\n",
       "\n",
       "    .dataframe tbody tr th {\n",
       "        vertical-align: top;\n",
       "    }\n",
       "\n",
       "    .dataframe thead th {\n",
       "        text-align: right;\n",
       "    }\n",
       "</style>\n",
       "<table border=\"1\" class=\"dataframe\">\n",
       "  <thead>\n",
       "    <tr style=\"text-align: right;\">\n",
       "      <th></th>\n",
       "      <th>feature</th>\n",
       "      <th>importance</th>\n",
       "    </tr>\n",
       "  </thead>\n",
       "  <tbody>\n",
       "    <tr>\n",
       "      <th>13</th>\n",
       "      <td>vehicle_weight</td>\n",
       "      <td>0.959162</td>\n",
       "    </tr>\n",
       "    <tr>\n",
       "      <th>6</th>\n",
       "      <td>horsepower</td>\n",
       "      <td>0.016040</td>\n",
       "    </tr>\n",
       "    <tr>\n",
       "      <th>0</th>\n",
       "      <td>acceleration</td>\n",
       "      <td>0.011471</td>\n",
       "    </tr>\n",
       "    <tr>\n",
       "      <th>3</th>\n",
       "      <td>engine_displacement</td>\n",
       "      <td>0.003269</td>\n",
       "    </tr>\n",
       "    <tr>\n",
       "      <th>7</th>\n",
       "      <td>model_year</td>\n",
       "      <td>0.003182</td>\n",
       "    </tr>\n",
       "    <tr>\n",
       "      <th>8</th>\n",
       "      <td>num_cylinders</td>\n",
       "      <td>0.002359</td>\n",
       "    </tr>\n",
       "    <tr>\n",
       "      <th>9</th>\n",
       "      <td>num_doors</td>\n",
       "      <td>0.001591</td>\n",
       "    </tr>\n",
       "    <tr>\n",
       "      <th>12</th>\n",
       "      <td>origin=USA</td>\n",
       "      <td>0.000555</td>\n",
       "    </tr>\n",
       "    <tr>\n",
       "      <th>11</th>\n",
       "      <td>origin=Europe</td>\n",
       "      <td>0.000520</td>\n",
       "    </tr>\n",
       "    <tr>\n",
       "      <th>10</th>\n",
       "      <td>origin=Asia</td>\n",
       "      <td>0.000476</td>\n",
       "    </tr>\n",
       "    <tr>\n",
       "      <th>1</th>\n",
       "      <td>drivetrain=All-wheel drive</td>\n",
       "      <td>0.000382</td>\n",
       "    </tr>\n",
       "    <tr>\n",
       "      <th>4</th>\n",
       "      <td>fuel_type=Diesel</td>\n",
       "      <td>0.000344</td>\n",
       "    </tr>\n",
       "    <tr>\n",
       "      <th>5</th>\n",
       "      <td>fuel_type=Gasoline</td>\n",
       "      <td>0.000337</td>\n",
       "    </tr>\n",
       "    <tr>\n",
       "      <th>2</th>\n",
       "      <td>drivetrain=Front-wheel drive</td>\n",
       "      <td>0.000312</td>\n",
       "    </tr>\n",
       "  </tbody>\n",
       "</table>\n",
       "</div>"
      ],
      "text/plain": [
       "                         feature  importance\n",
       "13                vehicle_weight    0.959162\n",
       "6                     horsepower    0.016040\n",
       "0                   acceleration    0.011471\n",
       "3            engine_displacement    0.003269\n",
       "7                     model_year    0.003182\n",
       "8                  num_cylinders    0.002359\n",
       "9                      num_doors    0.001591\n",
       "12                    origin=USA    0.000555\n",
       "11                 origin=Europe    0.000520\n",
       "10                   origin=Asia    0.000476\n",
       "1     drivetrain=All-wheel drive    0.000382\n",
       "4               fuel_type=Diesel    0.000344\n",
       "5             fuel_type=Gasoline    0.000337\n",
       "2   drivetrain=Front-wheel drive    0.000312"
      ]
     },
     "execution_count": 26,
     "metadata": {},
     "output_type": "execute_result"
    }
   ],
   "source": [
    "feature_importance_df"
   ]
  },
  {
   "cell_type": "code",
   "execution_count": 27,
   "id": "ae910c8f-1957-4832-8e4f-aef27764ba26",
   "metadata": {},
   "outputs": [],
   "source": [
    "#Question 6"
   ]
  },
  {
   "cell_type": "code",
   "execution_count": 28,
   "id": "e59f50dc-efa7-4da9-80c7-8464bb12a91d",
   "metadata": {},
   "outputs": [
    {
     "name": "stdout",
     "output_type": "stream",
     "text": [
      "Requirement already satisfied: xgboost in /opt/conda/lib/python3.12/site-packages (3.1.1)\n",
      "Requirement already satisfied: numpy in /home/codespace/.local/lib/python3.12/site-packages (from xgboost) (2.3.1)\n",
      "Requirement already satisfied: nvidia-nccl-cu12 in /opt/conda/lib/python3.12/site-packages (from xgboost) (2.28.7)\n",
      "Requirement already satisfied: scipy in /home/codespace/.local/lib/python3.12/site-packages (from xgboost) (1.16.0)\n",
      "\n",
      "\u001b[1m[\u001b[0m\u001b[34;49mnotice\u001b[0m\u001b[1;39;49m]\u001b[0m\u001b[39;49m A new release of pip is available: \u001b[0m\u001b[31;49m25.1.1\u001b[0m\u001b[39;49m -> \u001b[0m\u001b[32;49m25.3\u001b[0m\n",
      "\u001b[1m[\u001b[0m\u001b[34;49mnotice\u001b[0m\u001b[1;39;49m]\u001b[0m\u001b[39;49m To update, run: \u001b[0m\u001b[32;49mpip install --upgrade pip\u001b[0m\n"
     ]
    }
   ],
   "source": [
    "!pip install xgboost"
   ]
  },
  {
   "cell_type": "code",
   "execution_count": 29,
   "id": "03fafdc0-7700-4967-813d-c7b30829e459",
   "metadata": {},
   "outputs": [],
   "source": [
    "import xgboost as xgb"
   ]
  },
  {
   "cell_type": "code",
   "execution_count": 45,
   "id": "4a72d56c-1ff7-4345-96a5-20889f8f2727",
   "metadata": {},
   "outputs": [
    {
     "data": {
      "text/plain": [
       "['acceleration',\n",
       " 'drivetrain=All-wheel drive',\n",
       " 'drivetrain=Front-wheel drive',\n",
       " 'engine_displacement',\n",
       " 'fuel_type=Diesel',\n",
       " 'fuel_type=Gasoline',\n",
       " 'horsepower',\n",
       " 'model_year',\n",
       " 'num_cylinders',\n",
       " 'num_doors',\n",
       " 'origin=Asia',\n",
       " 'origin=Europe',\n",
       " 'origin=USA',\n",
       " 'vehicle_weight']"
      ]
     },
     "execution_count": 45,
     "metadata": {},
     "output_type": "execute_result"
    }
   ],
   "source": [
    "features = dv.get_feature_names_out().tolist()\n",
    "features"
   ]
  },
  {
   "cell_type": "code",
   "execution_count": 46,
   "id": "ca630de6-ca08-456a-9f20-f71941752c97",
   "metadata": {},
   "outputs": [],
   "source": [
    "dtrain = xgb.DMatrix(X_train, label=y_train, feature_names=features)\n",
    "dval = xgb.DMatrix(X_val, label=y_val, feature_names=features)"
   ]
  },
  {
   "cell_type": "code",
   "execution_count": 65,
   "id": "97948c0e-7944-4369-91e1-b8e4062da217",
   "metadata": {},
   "outputs": [],
   "source": [
    "watchlist = [(dtrain, 'train'), (dval, 'val')]\n",
    "scores = {}"
   ]
  },
  {
   "cell_type": "code",
   "execution_count": 66,
   "id": "ce3e9c24-d83b-4a16-bbc4-ca8c14cafa3a",
   "metadata": {},
   "outputs": [],
   "source": [
    "def parse_xgb_output(output):\n",
    "    results = []\n",
    " \n",
    "    for line in output.stdout.strip().split('\\n'):\n",
    "        it_line, train_line, val_line = line.split('\\t')\n",
    " \n",
    "        it = int(it_line.strip('[]'))\n",
    "        train = float(train_line.split(':')[1])\n",
    "        val = float(val_line.split(':')[1])\n",
    " \n",
    "        results.append((it, train, val))\n",
    "     \n",
    "    columns = ['num_iter', 'train_rmse', 'val_rmse']\n",
    "    df_results = pd.DataFrame(results, columns=columns)\n",
    "    return df_results"
   ]
  },
  {
   "cell_type": "code",
   "execution_count": 67,
   "id": "23ca18d8-f56b-4525-b255-5f263cb656cf",
   "metadata": {},
   "outputs": [],
   "source": [
    "%%capture output\n",
    "\n",
    "xgb_params = {\n",
    "    'eta': 0.3, \n",
    "    'max_depth': 6,\n",
    "    'min_child_weight': 1,\n",
    "    \n",
    "    'objective': 'reg:squarederror',\n",
    "    'nthread': 8,\n",
    "    'eval_metric': 'rmse',\n",
    "    \n",
    "    'seed': 1,\n",
    "    'verbosity': 1,\n",
    "}\n",
    "model = xgb.train(xgb_params, dtrain, num_boost_round=100, verbose_eval=5, evals=watchlist)"
   ]
  },
  {
   "cell_type": "code",
   "execution_count": 68,
   "id": "f1972a85-5490-4026-aa61-21804afe1b32",
   "metadata": {},
   "outputs": [
    {
     "data": {
      "text/plain": [
       "'eta=0.3'"
      ]
     },
     "execution_count": 68,
     "metadata": {},
     "output_type": "execute_result"
    }
   ],
   "source": [
    "key = 'eta=%s' % (xgb_params['eta'])\n",
    "scores[key] = parse_xgb_output(output)\n",
    "key"
   ]
  },
  {
   "cell_type": "code",
   "execution_count": 69,
   "id": "a05b1c65-0967-4886-90a6-bb01f130458b",
   "metadata": {},
   "outputs": [],
   "source": [
    "%%capture output\n",
    "\n",
    "xgb_params = {\n",
    "    'eta': 0.1, \n",
    "    'max_depth': 6,\n",
    "    'min_child_weight': 1,\n",
    "    \n",
    "    'objective': 'reg:squarederror',\n",
    "    'nthread': 8,\n",
    "    'eval_metric': 'rmse',\n",
    "    \n",
    "    'seed': 1,\n",
    "    'verbosity': 1,\n",
    "}\n",
    "model = xgb.train(xgb_params, dtrain, num_boost_round=100, verbose_eval=5, evals=watchlist)"
   ]
  },
  {
   "cell_type": "code",
   "execution_count": 70,
   "id": "ac859824-8e94-4570-be45-cfacd4a000ba",
   "metadata": {},
   "outputs": [
    {
     "data": {
      "text/plain": [
       "'eta=0.1'"
      ]
     },
     "execution_count": 70,
     "metadata": {},
     "output_type": "execute_result"
    }
   ],
   "source": [
    "key = 'eta=%s' % (xgb_params['eta'])\n",
    "scores[key] = parse_xgb_output(output)\n",
    "key"
   ]
  },
  {
   "cell_type": "code",
   "execution_count": 71,
   "id": "18df7de3-f1df-4056-8d49-89192f35ac89",
   "metadata": {},
   "outputs": [
    {
     "data": {
      "text/html": [
       "<div>\n",
       "<style scoped>\n",
       "    .dataframe tbody tr th:only-of-type {\n",
       "        vertical-align: middle;\n",
       "    }\n",
       "\n",
       "    .dataframe tbody tr th {\n",
       "        vertical-align: top;\n",
       "    }\n",
       "\n",
       "    .dataframe thead th {\n",
       "        text-align: right;\n",
       "    }\n",
       "</style>\n",
       "<table border=\"1\" class=\"dataframe\">\n",
       "  <thead>\n",
       "    <tr style=\"text-align: right;\">\n",
       "      <th></th>\n",
       "      <th>num_iter</th>\n",
       "      <th>train_rmse</th>\n",
       "      <th>val_rmse</th>\n",
       "    </tr>\n",
       "  </thead>\n",
       "  <tbody>\n",
       "    <tr>\n",
       "      <th>3</th>\n",
       "      <td>15</td>\n",
       "      <td>0.34666</td>\n",
       "      <td>0.43362</td>\n",
       "    </tr>\n",
       "    <tr>\n",
       "      <th>4</th>\n",
       "      <td>20</td>\n",
       "      <td>0.33553</td>\n",
       "      <td>0.43376</td>\n",
       "    </tr>\n",
       "    <tr>\n",
       "      <th>5</th>\n",
       "      <td>25</td>\n",
       "      <td>0.32268</td>\n",
       "      <td>0.43683</td>\n",
       "    </tr>\n",
       "    <tr>\n",
       "      <th>6</th>\n",
       "      <td>30</td>\n",
       "      <td>0.31475</td>\n",
       "      <td>0.43752</td>\n",
       "    </tr>\n",
       "    <tr>\n",
       "      <th>7</th>\n",
       "      <td>35</td>\n",
       "      <td>0.30960</td>\n",
       "      <td>0.43784</td>\n",
       "    </tr>\n",
       "    <tr>\n",
       "      <th>2</th>\n",
       "      <td>10</td>\n",
       "      <td>0.37115</td>\n",
       "      <td>0.43896</td>\n",
       "    </tr>\n",
       "    <tr>\n",
       "      <th>8</th>\n",
       "      <td>40</td>\n",
       "      <td>0.30202</td>\n",
       "      <td>0.43968</td>\n",
       "    </tr>\n",
       "    <tr>\n",
       "      <th>9</th>\n",
       "      <td>45</td>\n",
       "      <td>0.29126</td>\n",
       "      <td>0.44024</td>\n",
       "    </tr>\n",
       "    <tr>\n",
       "      <th>10</th>\n",
       "      <td>50</td>\n",
       "      <td>0.28456</td>\n",
       "      <td>0.44140</td>\n",
       "    </tr>\n",
       "    <tr>\n",
       "      <th>11</th>\n",
       "      <td>55</td>\n",
       "      <td>0.27618</td>\n",
       "      <td>0.44225</td>\n",
       "    </tr>\n",
       "    <tr>\n",
       "      <th>12</th>\n",
       "      <td>60</td>\n",
       "      <td>0.26768</td>\n",
       "      <td>0.44290</td>\n",
       "    </tr>\n",
       "    <tr>\n",
       "      <th>13</th>\n",
       "      <td>65</td>\n",
       "      <td>0.26174</td>\n",
       "      <td>0.44352</td>\n",
       "    </tr>\n",
       "    <tr>\n",
       "      <th>14</th>\n",
       "      <td>70</td>\n",
       "      <td>0.25489</td>\n",
       "      <td>0.44531</td>\n",
       "    </tr>\n",
       "    <tr>\n",
       "      <th>15</th>\n",
       "      <td>75</td>\n",
       "      <td>0.24792</td>\n",
       "      <td>0.44628</td>\n",
       "    </tr>\n",
       "    <tr>\n",
       "      <th>16</th>\n",
       "      <td>80</td>\n",
       "      <td>0.24254</td>\n",
       "      <td>0.44689</td>\n",
       "    </tr>\n",
       "    <tr>\n",
       "      <th>17</th>\n",
       "      <td>85</td>\n",
       "      <td>0.23644</td>\n",
       "      <td>0.44749</td>\n",
       "    </tr>\n",
       "    <tr>\n",
       "      <th>18</th>\n",
       "      <td>90</td>\n",
       "      <td>0.23193</td>\n",
       "      <td>0.44839</td>\n",
       "    </tr>\n",
       "    <tr>\n",
       "      <th>19</th>\n",
       "      <td>95</td>\n",
       "      <td>0.22475</td>\n",
       "      <td>0.44904</td>\n",
       "    </tr>\n",
       "    <tr>\n",
       "      <th>20</th>\n",
       "      <td>99</td>\n",
       "      <td>0.21950</td>\n",
       "      <td>0.45018</td>\n",
       "    </tr>\n",
       "    <tr>\n",
       "      <th>1</th>\n",
       "      <td>5</td>\n",
       "      <td>0.51381</td>\n",
       "      <td>0.55664</td>\n",
       "    </tr>\n",
       "    <tr>\n",
       "      <th>0</th>\n",
       "      <td>0</td>\n",
       "      <td>1.81393</td>\n",
       "      <td>1.85444</td>\n",
       "    </tr>\n",
       "  </tbody>\n",
       "</table>\n",
       "</div>"
      ],
      "text/plain": [
       "    num_iter  train_rmse  val_rmse\n",
       "3         15     0.34666   0.43362\n",
       "4         20     0.33553   0.43376\n",
       "5         25     0.32268   0.43683\n",
       "6         30     0.31475   0.43752\n",
       "7         35     0.30960   0.43784\n",
       "2         10     0.37115   0.43896\n",
       "8         40     0.30202   0.43968\n",
       "9         45     0.29126   0.44024\n",
       "10        50     0.28456   0.44140\n",
       "11        55     0.27618   0.44225\n",
       "12        60     0.26768   0.44290\n",
       "13        65     0.26174   0.44352\n",
       "14        70     0.25489   0.44531\n",
       "15        75     0.24792   0.44628\n",
       "16        80     0.24254   0.44689\n",
       "17        85     0.23644   0.44749\n",
       "18        90     0.23193   0.44839\n",
       "19        95     0.22475   0.44904\n",
       "20        99     0.21950   0.45018\n",
       "1          5     0.51381   0.55664\n",
       "0          0     1.81393   1.85444"
      ]
     },
     "execution_count": 71,
     "metadata": {},
     "output_type": "execute_result"
    }
   ],
   "source": [
    "scores['eta=0.3'].sort_values('val_rmse', ascending=True)"
   ]
  },
  {
   "cell_type": "code",
   "execution_count": 72,
   "id": "b1a0f0bd-05dc-41a7-be51-58be121ff87c",
   "metadata": {},
   "outputs": [
    {
     "data": {
      "text/html": [
       "<div>\n",
       "<style scoped>\n",
       "    .dataframe tbody tr th:only-of-type {\n",
       "        vertical-align: middle;\n",
       "    }\n",
       "\n",
       "    .dataframe tbody tr th {\n",
       "        vertical-align: top;\n",
       "    }\n",
       "\n",
       "    .dataframe thead th {\n",
       "        text-align: right;\n",
       "    }\n",
       "</style>\n",
       "<table border=\"1\" class=\"dataframe\">\n",
       "  <thead>\n",
       "    <tr style=\"text-align: right;\">\n",
       "      <th></th>\n",
       "      <th>num_iter</th>\n",
       "      <th>train_rmse</th>\n",
       "      <th>val_rmse</th>\n",
       "    </tr>\n",
       "  </thead>\n",
       "  <tbody>\n",
       "    <tr>\n",
       "      <th>11</th>\n",
       "      <td>55</td>\n",
       "      <td>0.33480</td>\n",
       "      <td>0.42449</td>\n",
       "    </tr>\n",
       "    <tr>\n",
       "      <th>12</th>\n",
       "      <td>60</td>\n",
       "      <td>0.33054</td>\n",
       "      <td>0.42456</td>\n",
       "    </tr>\n",
       "    <tr>\n",
       "      <th>13</th>\n",
       "      <td>65</td>\n",
       "      <td>0.32602</td>\n",
       "      <td>0.42493</td>\n",
       "    </tr>\n",
       "    <tr>\n",
       "      <th>10</th>\n",
       "      <td>50</td>\n",
       "      <td>0.33998</td>\n",
       "      <td>0.42498</td>\n",
       "    </tr>\n",
       "    <tr>\n",
       "      <th>14</th>\n",
       "      <td>70</td>\n",
       "      <td>0.32202</td>\n",
       "      <td>0.42503</td>\n",
       "    </tr>\n",
       "    <tr>\n",
       "      <th>15</th>\n",
       "      <td>75</td>\n",
       "      <td>0.31895</td>\n",
       "      <td>0.42526</td>\n",
       "    </tr>\n",
       "    <tr>\n",
       "      <th>16</th>\n",
       "      <td>80</td>\n",
       "      <td>0.31667</td>\n",
       "      <td>0.42563</td>\n",
       "    </tr>\n",
       "    <tr>\n",
       "      <th>17</th>\n",
       "      <td>85</td>\n",
       "      <td>0.31440</td>\n",
       "      <td>0.42574</td>\n",
       "    </tr>\n",
       "    <tr>\n",
       "      <th>18</th>\n",
       "      <td>90</td>\n",
       "      <td>0.31059</td>\n",
       "      <td>0.42586</td>\n",
       "    </tr>\n",
       "    <tr>\n",
       "      <th>9</th>\n",
       "      <td>45</td>\n",
       "      <td>0.34621</td>\n",
       "      <td>0.42595</td>\n",
       "    </tr>\n",
       "    <tr>\n",
       "      <th>19</th>\n",
       "      <td>95</td>\n",
       "      <td>0.30625</td>\n",
       "      <td>0.42611</td>\n",
       "    </tr>\n",
       "    <tr>\n",
       "      <th>20</th>\n",
       "      <td>99</td>\n",
       "      <td>0.30419</td>\n",
       "      <td>0.42623</td>\n",
       "    </tr>\n",
       "    <tr>\n",
       "      <th>8</th>\n",
       "      <td>40</td>\n",
       "      <td>0.35343</td>\n",
       "      <td>0.42746</td>\n",
       "    </tr>\n",
       "    <tr>\n",
       "      <th>7</th>\n",
       "      <td>35</td>\n",
       "      <td>0.36435</td>\n",
       "      <td>0.43250</td>\n",
       "    </tr>\n",
       "    <tr>\n",
       "      <th>6</th>\n",
       "      <td>30</td>\n",
       "      <td>0.38342</td>\n",
       "      <td>0.44289</td>\n",
       "    </tr>\n",
       "    <tr>\n",
       "      <th>5</th>\n",
       "      <td>25</td>\n",
       "      <td>0.41881</td>\n",
       "      <td>0.46891</td>\n",
       "    </tr>\n",
       "    <tr>\n",
       "      <th>4</th>\n",
       "      <td>20</td>\n",
       "      <td>0.48983</td>\n",
       "      <td>0.53064</td>\n",
       "    </tr>\n",
       "    <tr>\n",
       "      <th>3</th>\n",
       "      <td>15</td>\n",
       "      <td>0.63402</td>\n",
       "      <td>0.66672</td>\n",
       "    </tr>\n",
       "    <tr>\n",
       "      <th>2</th>\n",
       "      <td>10</td>\n",
       "      <td>0.91008</td>\n",
       "      <td>0.94062</td>\n",
       "    </tr>\n",
       "    <tr>\n",
       "      <th>1</th>\n",
       "      <td>5</td>\n",
       "      <td>1.41247</td>\n",
       "      <td>1.44988</td>\n",
       "    </tr>\n",
       "    <tr>\n",
       "      <th>0</th>\n",
       "      <td>0</td>\n",
       "      <td>2.28944</td>\n",
       "      <td>2.34561</td>\n",
       "    </tr>\n",
       "  </tbody>\n",
       "</table>\n",
       "</div>"
      ],
      "text/plain": [
       "    num_iter  train_rmse  val_rmse\n",
       "11        55     0.33480   0.42449\n",
       "12        60     0.33054   0.42456\n",
       "13        65     0.32602   0.42493\n",
       "10        50     0.33998   0.42498\n",
       "14        70     0.32202   0.42503\n",
       "15        75     0.31895   0.42526\n",
       "16        80     0.31667   0.42563\n",
       "17        85     0.31440   0.42574\n",
       "18        90     0.31059   0.42586\n",
       "9         45     0.34621   0.42595\n",
       "19        95     0.30625   0.42611\n",
       "20        99     0.30419   0.42623\n",
       "8         40     0.35343   0.42746\n",
       "7         35     0.36435   0.43250\n",
       "6         30     0.38342   0.44289\n",
       "5         25     0.41881   0.46891\n",
       "4         20     0.48983   0.53064\n",
       "3         15     0.63402   0.66672\n",
       "2         10     0.91008   0.94062\n",
       "1          5     1.41247   1.44988\n",
       "0          0     2.28944   2.34561"
      ]
     },
     "execution_count": 72,
     "metadata": {},
     "output_type": "execute_result"
    }
   ],
   "source": [
    "scores['eta=0.1'].sort_values('val_rmse', ascending=True)"
   ]
  }
 ],
 "metadata": {
  "kernelspec": {
   "display_name": "Python 3 (ipykernel)",
   "language": "python",
   "name": "python3"
  },
  "language_info": {
   "codemirror_mode": {
    "name": "ipython",
    "version": 3
   },
   "file_extension": ".py",
   "mimetype": "text/x-python",
   "name": "python",
   "nbconvert_exporter": "python",
   "pygments_lexer": "ipython3",
   "version": "3.12.3"
  }
 },
 "nbformat": 4,
 "nbformat_minor": 5
}
